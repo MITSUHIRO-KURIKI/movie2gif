{
  "nbformat": 4,
  "nbformat_minor": 0,
  "metadata": {
    "colab": {
      "private_outputs": true,
      "provenance": []
    },
    "kernelspec": {
      "name": "python3",
      "display_name": "Python 3"
    },
    "language_info": {
      "name": "python"
    }
  },
  "cells": [
    {
      "cell_type": "code",
      "execution_count": null,
      "metadata": {
        "id": "2zkglOJYsByt"
      },
      "outputs": [],
      "source": [
        "from IPython.display import clear_output\n",
        "!pip install moviepy\n",
        "!pip install ffmpeg\n",
        "clear_output()"
      ]
    },
    {
      "cell_type": "code",
      "source": [
        "from moviepy.editor import VideoFileClip, concatenate_videoclips"
      ],
      "metadata": {
        "id": "_40YUNA0R0Qn"
      },
      "execution_count": null,
      "outputs": []
    },
    {
      "cell_type": "code",
      "source": [
        "# ファイルパスの確認と設定\n",
        "filepath = '*** file path ***.mp4'\n",
        "\n",
        "# 動画ファイルの読み込み\n",
        "clip = VideoFileClip(filepath)\n",
        "\n",
        "# 動画のクロップ (左上から右下までの指定範囲で切り取り)\n",
        "# x1, y1: クロップの左上の座標\n",
        "# x2, y2: クロップの右下の座標\n",
        "clip = clip.crop(x1=0, y1=0, x2=2528, y2=2528)\n",
        "\n",
        "# 解像度のリサイズ (幅を1080ピクセルに設定)\n",
        "# 高さは元のアスペクト比を維持して自動計算\n",
        "clip = clip.resize(width=1080)\n",
        "\n",
        "# サブクリップの作成\n",
        "# clip1: 3秒から138秒までの部分\n",
        "clip1 = clip.subclip(3, 138)\n",
        "# clip2: 155秒から169秒までの部分\n",
        "clip2 = clip.subclip(155, 169)\n",
        "\n",
        "# サブクリップの結合\n",
        "# clip1とclip2を順番に結合して新しいクリップを作成\n",
        "final_clip = concatenate_videoclips([clip1, clip2])\n",
        "\n",
        "# GIFの作成\n",
        "# fps は1秒あたりのフレーム数を指定 (低い値にするとファイルサイズが小さくなる)\n",
        "final_clip.write_gif('img.gif', fps=10)"
      ],
      "metadata": {
        "id": "_T-U0Eg3SkEh"
      },
      "execution_count": null,
      "outputs": []
    }
  ]
}